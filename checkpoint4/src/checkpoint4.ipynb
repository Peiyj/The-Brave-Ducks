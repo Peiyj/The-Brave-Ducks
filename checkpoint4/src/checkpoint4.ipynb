{
  "nbformat": 4,
  "nbformat_minor": 0,
  "metadata": {
    "colab": {
      "name": "checkpoint4.ipynb",
      "provenance": [],
      "collapsed_sections": [],
      "toc_visible": true
    },
    "kernelspec": {
      "name": "python3",
      "display_name": "Python 3"
    },
    "language_info": {
      "name": "python"
    }
  },
  "cells": [
    {
      "cell_type": "markdown",
      "metadata": {
        "id": "sElgRPJCjICZ"
      },
      "source": [
        "**The Brave Ducks**\n",
        "\n",
        "**Checkpoint 4: Graph Analytics**\n",
        "\n",
        "**Overview:** With the following exploration of the Chicago Polic Database, we inspect co-offending officers and if they have any interesting relationships within each pair of officers. The exploration of the following questions is done via graph analytics, conducted using Apache Spark and GraphX tools, processed in the attached Google Colab notebook.\n",
        "\n",
        "**Questions we seek to answer with the graph analytics:**\n",
        "1.   Are there occurrences of co-offending officers on the same misconduct report and how often do the same co-offending officers repeat?\n",
        "2.   What is the salary, rank, and race relationship between the topmost pair of co-offending officers? This analysis can then be repeated for each pair, as needed. For this report, we will provide discussion for the topmost offending pair.\n",
        "    *   do the officers have comparable salaries within 10% of each other?\n",
        "    *   are the officers of similar ranking or is one a higher ranking officer, possibly socially pressuring a lower ranking officer into committing misconduct?\n",
        "    *   are the officers the same race?\n",
        "3.   How many unique co-offending relationships does each officer have? It is straightforward to compute total misconduct of an individual officer but will be more meaningful to understanding how many unique relationships an officer has in which he/she allegedly commits a misconduct.\n",
        "    *   we will use the Triangle Count algorithm to count the unique relationships connecting officer_id nodes\n",
        "\n",
        "4.   Who is the ring-leader (most important) co-offending officer?\n",
        "\n"
      ]
    },
    {
      "cell_type": "code",
      "metadata": {
        "id": "8q9GaenM0qTu",
        "colab": {
          "base_uri": "https://localhost:8080/"
        },
        "outputId": "5815e9d0-c305-44f6-a00d-330fe136f526"
      },
      "source": [
        "# install java\n",
        "!apt-get install openjdk-8-jdk-headless -qq > /dev/null\n",
        "\n",
        "# install spark (change the version number if needed)\n",
        "!wget -q https://archive.apache.org/dist/spark/spark-3.2.0/spark-3.2.0-bin-hadoop3.2.tgz\n",
        "\n",
        "# unzip the spark file to the current folder\n",
        "!tar xf spark-3.2.0-bin-hadoop3.2.tgz\n",
        "\n",
        "# set your spark folder to your system path environment. \n",
        "import os\n",
        "os.environ[\"JAVA_HOME\"] = \"/usr/lib/jvm/java-8-openjdk-amd64\"\n",
        "os.environ[\"SPARK_HOME\"] = \"/content/spark-3.2.0-bin-hadoop3.2\"\n",
        "\n",
        "# install findspark using pip\n",
        "!pip install -q findspark\n",
        "\n",
        "# install pyspark\n",
        "!pip3 install pyspark==3.2.0\n",
        "\n",
        "# install graphframes\n",
        "!pip3 install graphframes"
      ],
      "execution_count": null,
      "outputs": [
        {
          "output_type": "stream",
          "name": "stdout",
          "text": [
            "Requirement already satisfied: pyspark==3.2.0 in /usr/local/lib/python3.7/dist-packages (3.2.0)\n",
            "Requirement already satisfied: py4j==0.10.9.2 in /usr/local/lib/python3.7/dist-packages (from pyspark==3.2.0) (0.10.9.2)\n",
            "Requirement already satisfied: graphframes in /usr/local/lib/python3.7/dist-packages (0.6)\n",
            "Requirement already satisfied: numpy in /usr/local/lib/python3.7/dist-packages (from graphframes) (1.19.5)\n",
            "Requirement already satisfied: nose in /usr/local/lib/python3.7/dist-packages (from graphframes) (1.3.7)\n"
          ]
        }
      ]
    },
    {
      "cell_type": "markdown",
      "metadata": {
        "id": "Li40SzYtq0H6"
      },
      "source": [
        "Download the graphframes jar file from: [Graphframe jar file:](https://repos.spark-packages.org/graphframes/graphframes/0.8.2-spark3.2-s_2.12/graphframes-0.8.2-spark3.2-s_2.12.jar)\n",
        "\n",
        "Upload it in the Google Colab Files folder. Can be found in the left pane of this window."
      ]
    },
    {
      "cell_type": "code",
      "metadata": {
        "colab": {
          "base_uri": "https://localhost:8080/"
        },
        "id": "6MVIEKxAHykk",
        "outputId": "81da29d4-197b-42a9-a101-9384c4924668"
      },
      "source": [
        "!cp -v /content/graphframes-0.8.2-spark3.2-s_2.12.jar $SPARK_HOME/jars/"
      ],
      "execution_count": null,
      "outputs": [
        {
          "output_type": "stream",
          "name": "stdout",
          "text": [
            "'/content/graphframes-0.8.2-spark3.2-s_2.12.jar' -> '/content/spark-3.2.0-bin-hadoop3.2/jars/graphframes-0.8.2-spark3.2-s_2.12.jar'\n"
          ]
        }
      ]
    },
    {
      "cell_type": "code",
      "metadata": {
        "id": "vMzCLSn81Grr"
      },
      "source": [
        "#import the packages\n",
        "from pyspark import *\n",
        "from pyspark.sql import *\n",
        "from graphframes import *\n",
        "import findspark\n",
        "import pandas as pd\n",
        "\n",
        "findspark.init()\n",
        "\n",
        "# Start a Spark session\n",
        "spark = SparkSession.builder.master(\"local[*]\").getOrCreate()"
      ],
      "execution_count": null,
      "outputs": []
    },
    {
      "cell_type": "code",
      "metadata": {
        "id": "1ei_oY0-OcaJ"
      },
      "source": [
        "import psycopg2"
      ],
      "execution_count": null,
      "outputs": []
    },
    {
      "cell_type": "code",
      "metadata": {
        "id": "L4YGowB2Occ7"
      },
      "source": [
        "# access the postgresql server\n",
        "conn = psycopg2.connect(\n",
        "    host=\"codd04.research.northwestern.edu\",\n",
        "    port = \"5433\",\n",
        "    database=\"postgres\",\n",
        "    user=\"cpdbstudent\",\n",
        "    password=\"DataSci4AI\")"
      ],
      "execution_count": null,
      "outputs": []
    },
    {
      "cell_type": "code",
      "metadata": {
        "id": "fUSZMYh5Ohg7"
      },
      "source": [
        "cursor = conn.cursor()"
      ],
      "execution_count": null,
      "outputs": []
    },
    {
      "cell_type": "markdown",
      "metadata": {
        "id": "PK860SmxxHRb"
      },
      "source": [
        "# **CPDB**\n",
        "\n",
        "Analyze the police officers connection with police misconducts, i.e. (illegal search and use of force)"
      ]
    },
    {
      "cell_type": "code",
      "metadata": {
        "id": "zkOfRw_FOhk0"
      },
      "source": [
        "edges_query = \"SELECT da1.officer_id src, da2.officer_id dst, COUNT(DISTINCT da1.allegation_id) relationship \\\n",
        "FROM data_officerallegation da1, \\\n",
        "     data_officerallegation da2, \\\n",
        "     data_allegationcategory dcat \\\n",
        "WHERE da1.allegation_id = da2.allegation_id \\\n",
        "  AND da1.allegation_category_id = dcat.id \\\n",
        "  AND da1.officer_id < da2.officer_id \\\n",
        "  AND (dcat.category like 'Illegal Search' or dcat.category like 'Use Of Force') \\\n",
        "GROUP BY da1.officer_id, da2.officer_id \\\n",
        "ORDER BY count(*) DESC;\""
      ],
      "execution_count": null,
      "outputs": []
    },
    {
      "cell_type": "markdown",
      "metadata": {
        "id": "xdjZye58yCEP"
      },
      "source": [
        "**Following query creates nodes and edges to answer the questions.**\n",
        "\n",
        "\n",
        "\n",
        "*   **nodes**: id, officer name and misconduct count\n",
        "*   **edges**: src(officer1 id), dist(officer2 id) and relationship(misconduct count)"
      ]
    },
    {
      "cell_type": "code",
      "metadata": {
        "id": "OcMIWVuTOl18"
      },
      "source": [
        "nodes_query = \"SELECT da.officer_id id, doff.first_name || ' ' || doff.last_name officer_name, doff.race, doff.current_salary, doff.rank,COUNT(DISTINCT da.allegation_id) total_misconduct_count \\\n",
        "FROM data_officerallegation da, \\\n",
        "data_officer doff, \\\n",
        "data_allegationcategory dcat \\\n",
        "WHERE da.allegation_category_id = dcat.id \\\n",
        "AND doff.id = da.officer_id \\\n",
        "AND (dcat.category like 'Illegal Search' or dcat.category like 'Use Of Force') \\\n",
        "AND current_salary is not null \\\n",
        "GROUP BY da.officer_id, officer_name, doff.race, doff.current_salary, doff.rank; \" "
      ],
      "execution_count": null,
      "outputs": []
    },
    {
      "cell_type": "code",
      "metadata": {
        "id": "HAAAAxavOl7g",
        "colab": {
          "base_uri": "https://localhost:8080/"
        },
        "outputId": "ed32781a-54e8-48cf-aace-bf42ae86b74a"
      },
      "source": [
        "cursor.execute(edges_query)\n",
        "edges = cursor.fetchall()\n",
        "print(\"shape is: \" + str(len(edges)))\n",
        "\n",
        "df_edges = pd.DataFrame(edges)\n",
        "colnames = [desc[0] for desc in cursor.description]\n",
        "df_edges.columns = colnames\n",
        "\n",
        "print(df_edges.shape)"
      ],
      "execution_count": null,
      "outputs": [
        {
          "output_type": "stream",
          "name": "stdout",
          "text": [
            "shape is: 92794\n",
            "(92794, 3)\n"
          ]
        }
      ]
    },
    {
      "cell_type": "code",
      "metadata": {
        "id": "itgubJqDOq-b",
        "colab": {
          "base_uri": "https://localhost:8080/"
        },
        "outputId": "83b63042-3fe2-4c22-8db5-07eda1ea13eb"
      },
      "source": [
        "cursor.execute(nodes_query)\n",
        "nodes = cursor.fetchall()\n",
        "print(\"shape is: \" + str(len(nodes))) \n",
        "\n",
        "df_nodes = pd.DataFrame(nodes)\n",
        "colnames = [desc[0] for desc in cursor.description]\n",
        "df_nodes.columns = colnames\n",
        "\n",
        "print(df_nodes.shape)"
      ],
      "execution_count": null,
      "outputs": [
        {
          "output_type": "stream",
          "name": "stdout",
          "text": [
            "shape is: 13951\n",
            "(13951, 6)\n"
          ]
        }
      ]
    },
    {
      "cell_type": "code",
      "metadata": {
        "id": "Z6Ndlh2fOuPr"
      },
      "source": [
        "edges_ = spark.createDataFrame(df_edges)"
      ],
      "execution_count": null,
      "outputs": []
    },
    {
      "cell_type": "code",
      "metadata": {
        "id": "NQpUzzhiOuM6"
      },
      "source": [
        "nodes = spark.createDataFrame(df_nodes)"
      ],
      "execution_count": null,
      "outputs": []
    },
    {
      "cell_type": "code",
      "metadata": {
        "id": "5E6wePicOzAe"
      },
      "source": [
        "cpdb = GraphFrame(nodes, edges_)"
      ],
      "execution_count": null,
      "outputs": []
    },
    {
      "cell_type": "markdown",
      "metadata": {
        "id": "AzpP5sxopQ71"
      },
      "source": [
        "**The Results**"
      ]
    },
    {
      "cell_type": "code",
      "metadata": {
        "id": "nGmLt3whyPAu",
        "colab": {
          "base_uri": "https://localhost:8080/"
        },
        "outputId": "a96b160a-8e7b-48e3-de86-9515f47c7650"
      },
      "source": [
        "cpdb.vertices.show()"
      ],
      "execution_count": null,
      "outputs": [
        {
          "output_type": "stream",
          "name": "stdout",
          "text": [
            "+---+----------------+-------------+--------------+--------------------+----------------------+\n",
            "| id|    officer_name|         race|current_salary|                rank|total_misconduct_count|\n",
            "+---+----------------+-------------+--------------+--------------------+----------------------+\n",
            "|  1|   Jeffery Aaron|        White|        101442|  Sergeant of Police|                     2|\n",
            "|  2|    Karina Aaron|     Hispanic|         94122|Police Officer as...|                     4|\n",
            "|  4|   Carmel Abbate|        White|         74946|Police Officer as...|                     2|\n",
            "|  6|  Anthony Abbate|        White|         70656|      Police Officer|                     2|\n",
            "|  7|    Terry Abbate|        White|         93354|      Police Officer|                     3|\n",
            "|  8|      Leon Abbey|        Black|         73116|      Police Officer|                     1|\n",
            "| 11|    Laura Abbott|        White|         73476|Police Officer as...|                     2|\n",
            "| 13|     Dale Abbott|        White|         85278|      Police Officer|                     2|\n",
            "| 14|Elizabeth Abbott|        White|         82878|      Police Officer|                     1|\n",
            "| 16|Aziz Abdelmajeid|Asian/Pacific|         84054|  Sergeant of Police|                     9|\n",
            "| 17| Moulay Abdullah|        Black|         83706|      Police Officer|                     1|\n",
            "| 18|   Jason Abejero|Asian/Pacific|         90024|      Police Officer|                     1|\n",
            "| 20|   Kenneth Abels|        White|        106068|  Sergeant of Police|                     2|\n",
            "| 33|   Ricardo Abreu|     Hispanic|         74946|Police Officer as...|                    10|\n",
            "| 34|     Floyd Abron|        Black|         90024|      Police Officer|                     5|\n",
            "| 38|Abdalla Abuzanat|Asian/Pacific|         97440|Police Officer as...|                     5|\n",
            "| 39|Rosemary Accardo|        White|         92316|      Police Officer|                    10|\n",
            "| 41|Jennifer Accardo|        White|         87006|      Police Officer|                     2|\n",
            "| 42|  Thomas Accardo|        White|         90024|      Police Officer|                     6|\n",
            "| 44|   Marco Acevedo|     Hispanic|        100980|Police Officer as...|                    10|\n",
            "+---+----------------+-------------+--------------+--------------------+----------------------+\n",
            "only showing top 20 rows\n",
            "\n"
          ]
        }
      ]
    },
    {
      "cell_type": "markdown",
      "metadata": {
        "id": "3wJXiKlYpgfn"
      },
      "source": [
        "**Question 1: Are there occurrences of co-offending officers on the same misconduct report and how often do the same co-offending officers repeat?**\n",
        "\n",
        "The table below represents a graph with source node being officer_id1 and destination node being officer_id2, while their relationship is the total count of co-offending misconduct."
      ]
    },
    {
      "cell_type": "code",
      "metadata": {
        "id": "MQ3vTw0yySrG",
        "colab": {
          "base_uri": "https://localhost:8080/"
        },
        "outputId": "13b46c34-b9f6-48bc-cd77-397894695164"
      },
      "source": [
        "cpdb.edges.show()"
      ],
      "execution_count": null,
      "outputs": [
        {
          "output_type": "stream",
          "name": "stdout",
          "text": [
            "+-----+-----+------------+\n",
            "|  src|  dst|relationship|\n",
            "+-----+-----+------------+\n",
            "|12478|32166|          36|\n",
            "| 8562|27778|          34|\n",
            "| 2725|21703|          29|\n",
            "| 1553|10724|          28|\n",
            "| 3605|14442|          28|\n",
            "| 8562|18206|          28|\n",
            "|12074|12825|          28|\n",
            "|32265|32347|          27|\n",
            "| 8562|23841|          26|\n",
            "|31882|32401|          25|\n",
            "|13361|20150|          25|\n",
            "| 1553|16699|          24|\n",
            "|23841|27778|          24|\n",
            "|32016|32213|          24|\n",
            "|14731|27602|          23|\n",
            "|14045|15502|          23|\n",
            "|12479|20713|          22|\n",
            "|17285|17397|          21|\n",
            "|18206|27778|          21|\n",
            "| 8658|13788|          21|\n",
            "+-----+-----+------------+\n",
            "only showing top 20 rows\n",
            "\n"
          ]
        }
      ]
    },
    {
      "cell_type": "markdown",
      "metadata": {
        "id": "AwoL0Q1Ytvqx"
      },
      "source": [
        "**Question 2: What is the salary, rank, and race relationship between the topmost pair of co-offending officers?** \n",
        "\n",
        "*  do the officers have comparable salaries within 10% of each other?\n",
        "*    are the officers of similar ranking or is one a higher ranking officer, possibly socially pressuring a lower ranking officer into committing misconduct?\n",
        "*    are the officers the same race?\n",
        "\n",
        "\n",
        "\n",
        "To gain more insight into the top most co-offending pair of officers, we inspect the graph vertices to see the exact names, salary, rank, and race of the officers with the most total misconduct counts. As we can see below, the officers Ronald Holt and Emmet Mc Clendon have the most co-offending misconduct complaints. There is a more than 10% discrepency between their salaries and their officer rankings are significantly different, implying some hierarchical relationship between officer Holt and officer McClendon. Further, we note that both officers in this pair are of race black."
      ]
    },
    {
      "cell_type": "code",
      "metadata": {
        "id": "hzc372hgOzDF",
        "colab": {
          "base_uri": "https://localhost:8080/"
        },
        "outputId": "0c559d33-8d58-4375-8e6e-b0454d8d69d3"
      },
      "source": [
        "cpdb.vertices.filter('id=12478').show()\n",
        "cpdb.vertices.filter('id=32166').show()"
      ],
      "execution_count": null,
      "outputs": [
        {
          "output_type": "stream",
          "name": "stdout",
          "text": [
            "+-----+------------+-----+--------------+----------------+----------------------+\n",
            "|   id|officer_name| race|current_salary|            rank|total_misconduct_count|\n",
            "+-----+------------+-----+--------------+----------------+----------------------+\n",
            "|12478| Ronald Holt|Black|        145476|Director of CAPS|                    57|\n",
            "+-----+------------+-----+--------------+----------------+----------------------+\n",
            "\n",
            "+-----+-----------------+-----+--------------+------------------+----------------------+\n",
            "|   id|     officer_name| race|current_salary|              rank|total_misconduct_count|\n",
            "+-----+-----------------+-----+--------------+------------------+----------------------+\n",
            "|32166|Emmett Mc Clendon|Black|        107988|Sergeant of Police|                    64|\n",
            "+-----+-----------------+-----+--------------+------------------+----------------------+\n",
            "\n"
          ]
        }
      ]
    },
    {
      "cell_type": "code",
      "metadata": {
        "id": "dk82aaVGtFYe"
      },
      "source": [
        ""
      ],
      "execution_count": null,
      "outputs": []
    },
    {
      "cell_type": "markdown",
      "metadata": {
        "id": "nDdna7qIxywq"
      },
      "source": [
        "**Question 3: How many unique co-offending relationships does each officer have?**\n",
        "\n",
        "Background on the Triangle Count algorithm:\n",
        "\n",
        "The Triangle Count algorithm counts the number of triangles for each node in the graph. A triangle is a set of three nodes where each node has a relationship to the other two. In graph theory terminology, this is sometimes referred to as a 3-clique. The Triangle Count algorithm in the GDS library only finds triangles in undirected graphs.\n",
        "\n",
        "Triangle counting has gained popularity in social network analysis, where it is used to detect communities and measure the cohesiveness of those communities. \n",
        "\n",
        "(source: https://neo4j.com/docs/graph-data-science/current/algorithms/triangle-count/#:~:text=The%20Triangle%20Count%20algorithm%20counts,to%20as%20a%203%2Dclique): \n",
        "\n",
        "\n",
        "\n",
        "We see from our triangle count computation on the graph that officer Vincent Stinar has the highest number of unique co-offending relationships with other officers. And although we understood the Triangle Count algorithm to compute the unique relationship each officer has, as described above, the computation result we get from the code does not make immediate intuitive sense. We do a sanity-check on the computation by printing out the noted officer id '32356' as being the officer with the most unique co-offending relationships, being officer Vincent Stinar. We note that the TC algorithm computes he has 1514 unique co-offending relationships but the following computation for officer Stinar's total misconduct count is much lower, at total count equal to 12. This does not make intuitive sense for officer Vincent Stinar to have 1514 unique co-offending relationships but only 12 counts of misconduct. Upon further investigation and debugging of the code, we are unable to identify any specific bug in the code to rectify this error.\n",
        "\n",
        "**[Edit]:** We previously noted that officer_id 32356, Officer Vincent Stinar, has the greatest number of co-offending relationships as analyzed by the trianglecount algorithm. It was also noted that these are unique co-offending triangular relationships and that it did not make intuitive sense to have such a large trianglecount result, 1514, while having only 12 total counts of misconduct allegations. After further review of the Triangle Count algorithm, we find that the analysis is not of *unique* co-offending relationships, but repeated count of relationships. This would then mean it is reasonable to see a larger triangle count result even if the total misconduct count is much lower."
      ]
    },
    {
      "cell_type": "code",
      "metadata": {
        "id": "bjfzCySMdHr7",
        "colab": {
          "base_uri": "https://localhost:8080/"
        },
        "outputId": "bf1c3754-900a-4a73-86cc-d8def694dd0c"
      },
      "source": [
        "tc_cpdb = cpdb.triangleCount()\n",
        "\n",
        "tc_cpdb.select(\"id\", \"count\").sort(['count'], ascending=[0]).show()\n",
        "cpdb.vertices.filter('id=32356').show()"
      ],
      "execution_count": null,
      "outputs": [
        {
          "output_type": "stream",
          "name": "stdout",
          "text": [
            "+-----+-----+\n",
            "|   id|count|\n",
            "+-----+-----+\n",
            "|32356| 1514|\n",
            "|31536| 1485|\n",
            "|32390| 1437|\n",
            "|25230| 1417|\n",
            "|22554| 1390|\n",
            "| 2375| 1369|\n",
            "| 6704| 1366|\n",
            "|21364| 1347|\n",
            "|30337| 1316|\n",
            "|25983| 1312|\n",
            "| 2201| 1287|\n",
            "|13272| 1277|\n",
            "|13093| 1263|\n",
            "|10724| 1237|\n",
            "|28384| 1230|\n",
            "| 9648| 1204|\n",
            "| 7032| 1196|\n",
            "|12947| 1186|\n",
            "| 6852| 1182|\n",
            "| 2356| 1179|\n",
            "+-----+-----+\n",
            "only showing top 20 rows\n",
            "\n",
            "+-----+--------------+-----+--------------+--------------+----------------------+\n",
            "|   id|  officer_name| race|current_salary|          rank|total_misconduct_count|\n",
            "+-----+--------------+-----+--------------+--------------+----------------------+\n",
            "|32356|Vincent Stinar|White|         90024|Police Officer|                    12|\n",
            "+-----+--------------+-----+--------------+--------------+----------------------+\n",
            "\n"
          ]
        }
      ]
    },
    {
      "cell_type": "markdown",
      "metadata": {
        "id": "yX_5WfxL4pgc"
      },
      "source": [
        "**Question 4: Who is the ring-leader (most important) co-offending officer?**\n"
      ]
    },
    {
      "cell_type": "markdown",
      "metadata": {
        "id": "NAv9xSrkqWNx"
      },
      "source": [
        "We need to recast the data query to fit PageRank's bi-directional nature. To do this, we recast the graph edges. Note the query line \"AND da1.officer_id < da2.officer_id\" is modified to \"AND da1.officer_id <> da2.ifficer_id\"."
      ]
    },
    {
      "cell_type": "code",
      "metadata": {
        "id": "qHeXKoBAqREo"
      },
      "source": [
        "edges_query = \"SELECT da1.officer_id src, da2.officer_id dst, COUNT(DISTINCT da1.allegation_id) relationship \\\n",
        "FROM data_officerallegation da1, \\\n",
        "     data_officerallegation da2, \\\n",
        "     data_allegationcategory dcat \\\n",
        "WHERE da1.allegation_id = da2.allegation_id \\\n",
        "  AND da1.allegation_category_id = dcat.id \\\n",
        "  AND da1.officer_id <> da2.officer_id \\\n",
        "  AND (dcat.category like 'Illegal Search' or dcat.category like 'Use Of Force') \\\n",
        "GROUP BY da1.officer_id, da2.officer_id \\\n",
        "ORDER BY count(*) DESC;\""
      ],
      "execution_count": null,
      "outputs": []
    },
    {
      "cell_type": "code",
      "metadata": {
        "id": "iGOjx-YIrK7W"
      },
      "source": [
        "nodes_query = \"SELECT da.officer_id id, doff.first_name || ' ' || doff.last_name officer_name, doff.race, doff.current_salary, doff.rank,COUNT(DISTINCT da.allegation_id) total_misconduct_count \\\n",
        "FROM data_officerallegation da, \\\n",
        "data_officer doff, \\\n",
        "data_allegationcategory dcat \\\n",
        "WHERE da.allegation_category_id = dcat.id \\\n",
        "AND doff.id = da.officer_id \\\n",
        "AND (dcat.category like 'Illegal Search' or dcat.category like 'Use Of Force') \\\n",
        "AND current_salary is not null \\\n",
        "GROUP BY da.officer_id, officer_name, doff.race, doff.current_salary, doff.rank; \" "
      ],
      "execution_count": null,
      "outputs": []
    },
    {
      "cell_type": "code",
      "metadata": {
        "colab": {
          "base_uri": "https://localhost:8080/"
        },
        "id": "wE8OCXavrMPN",
        "outputId": "ce12f081-2620-49ab-d276-f0f8263ca7ba"
      },
      "source": [
        "cursor.execute(edges_query)\n",
        "edges = cursor.fetchall()\n",
        "print(\"shape is: \" + str(len(edges)))\n",
        "\n",
        "df_edges = pd.DataFrame(edges)\n",
        "colnames = [desc[0] for desc in cursor.description]\n",
        "df_edges.columns = colnames\n",
        "\n",
        "print(df_edges.shape)"
      ],
      "execution_count": null,
      "outputs": [
        {
          "output_type": "stream",
          "name": "stdout",
          "text": [
            "shape is: 185528\n",
            "(185528, 3)\n"
          ]
        }
      ]
    },
    {
      "cell_type": "code",
      "metadata": {
        "id": "OWKYOKXQrb_o"
      },
      "source": [
        "edges_ = spark.createDataFrame(df_edges)"
      ],
      "execution_count": null,
      "outputs": []
    },
    {
      "cell_type": "code",
      "metadata": {
        "id": "b5Pd3BkwriCG"
      },
      "source": [
        "nodes = spark.createDataFrame(df_nodes)"
      ],
      "execution_count": null,
      "outputs": []
    },
    {
      "cell_type": "code",
      "metadata": {
        "id": "E0lrSqzJrmjU"
      },
      "source": [
        "cpdb = GraphFrame(nodes, edges_)"
      ],
      "execution_count": null,
      "outputs": []
    },
    {
      "cell_type": "markdown",
      "metadata": {
        "id": "IQOgsHQMrnro"
      },
      "source": [
        "New graph for use in PageRank:"
      ]
    },
    {
      "cell_type": "code",
      "metadata": {
        "colab": {
          "base_uri": "https://localhost:8080/"
        },
        "id": "cz-9ZGe5rrju",
        "outputId": "e69cd7b7-f997-4bef-eb33-10b230754f0f"
      },
      "source": [
        "cpdb.vertices.show()"
      ],
      "execution_count": null,
      "outputs": [
        {
          "output_type": "stream",
          "name": "stdout",
          "text": [
            "+---+----------------+-------------+--------------+--------------------+----------------------+\n",
            "| id|    officer_name|         race|current_salary|                rank|total_misconduct_count|\n",
            "+---+----------------+-------------+--------------+--------------------+----------------------+\n",
            "|  1|   Jeffery Aaron|        White|        101442|  Sergeant of Police|                     2|\n",
            "|  2|    Karina Aaron|     Hispanic|         94122|Police Officer as...|                     4|\n",
            "|  4|   Carmel Abbate|        White|         74946|Police Officer as...|                     2|\n",
            "|  6|  Anthony Abbate|        White|         70656|      Police Officer|                     2|\n",
            "|  7|    Terry Abbate|        White|         93354|      Police Officer|                     3|\n",
            "|  8|      Leon Abbey|        Black|         73116|      Police Officer|                     1|\n",
            "| 11|    Laura Abbott|        White|         73476|Police Officer as...|                     2|\n",
            "| 13|     Dale Abbott|        White|         85278|      Police Officer|                     2|\n",
            "| 14|Elizabeth Abbott|        White|         82878|      Police Officer|                     1|\n",
            "| 16|Aziz Abdelmajeid|Asian/Pacific|         84054|  Sergeant of Police|                     9|\n",
            "| 17| Moulay Abdullah|        Black|         83706|      Police Officer|                     1|\n",
            "| 18|   Jason Abejero|Asian/Pacific|         90024|      Police Officer|                     1|\n",
            "| 20|   Kenneth Abels|        White|        106068|  Sergeant of Police|                     2|\n",
            "| 33|   Ricardo Abreu|     Hispanic|         74946|Police Officer as...|                    10|\n",
            "| 34|     Floyd Abron|        Black|         90024|      Police Officer|                     5|\n",
            "| 38|Abdalla Abuzanat|Asian/Pacific|         97440|Police Officer as...|                     5|\n",
            "| 39|Rosemary Accardo|        White|         92316|      Police Officer|                    10|\n",
            "| 41|Jennifer Accardo|        White|         87006|      Police Officer|                     2|\n",
            "| 42|  Thomas Accardo|        White|         90024|      Police Officer|                     6|\n",
            "| 44|   Marco Acevedo|     Hispanic|        100980|Police Officer as...|                    10|\n",
            "+---+----------------+-------------+--------------+--------------------+----------------------+\n",
            "only showing top 20 rows\n",
            "\n"
          ]
        }
      ]
    },
    {
      "cell_type": "code",
      "metadata": {
        "colab": {
          "base_uri": "https://localhost:8080/"
        },
        "id": "EJNSQkHasA44",
        "outputId": "d3551802-6e03-4e85-cce0-a57374d0b243"
      },
      "source": [
        "cpdb.edges.show()"
      ],
      "execution_count": null,
      "outputs": [
        {
          "output_type": "stream",
          "name": "stdout",
          "text": [
            "+-----+-----+------------+\n",
            "|  src|  dst|relationship|\n",
            "+-----+-----+------------+\n",
            "|12478|32166|          36|\n",
            "|32166|12478|          36|\n",
            "| 8562|27778|          34|\n",
            "|27778| 8562|          34|\n",
            "| 2725|21703|          29|\n",
            "|21703| 2725|          29|\n",
            "|18206| 8562|          28|\n",
            "|12074|12825|          28|\n",
            "|12825|12074|          28|\n",
            "|14442| 3605|          28|\n",
            "| 8562|18206|          28|\n",
            "|10724| 1553|          28|\n",
            "| 3605|14442|          28|\n",
            "| 1553|10724|          28|\n",
            "|32265|32347|          27|\n",
            "|32347|32265|          27|\n",
            "|23841| 8562|          26|\n",
            "| 8562|23841|          26|\n",
            "|13361|20150|          25|\n",
            "|31882|32401|          25|\n",
            "+-----+-----+------------+\n",
            "only showing top 20 rows\n",
            "\n"
          ]
        }
      ]
    },
    {
      "cell_type": "markdown",
      "metadata": {
        "id": "TSFJCkQfyFGQ"
      },
      "source": [
        "**Result of ring leader analysis using the PageRank algorithm**\n",
        "\n",
        "We use the PageRank algorithm on our graph to highlight which officers perform as ring leaders in the perspective of the data.\n",
        "\n",
        "As visualized above, the pagerank algorithm shows that officer Glenn Evans has the most influence on other officers in co-offending misconduct cases with a PageRank of 9.22 and total misconduct count of 73. Although at first glance the total misconduct count may seem less than other entries, we must note that PageRank will highlight which officer has the most commonality with other officers in committing misconduct offenses; thereby being \"ring leaders\". Other officers may commit additional misconduct offenses separately as individuals and thereby increasing their overall misconduct count. \n",
        "\n",
        "To further highlight this point, note that Officer Jerome Finnigan, officer_id 8562, has the highest total of misconduct allegations yet is only the 4th highest ranking \"ring-leader\" as analyzed by PageRank."
      ]
    },
    {
      "cell_type": "code",
      "metadata": {
        "id": "6R15Gbqv2kQT",
        "colab": {
          "base_uri": "https://localhost:8080/"
        },
        "outputId": "1998579c-c88b-4051-c9fd-a8ba1a2d05e2"
      },
      "source": [
        "pr_cpdb = cpdb.pageRank(resetProbability=0.15, tol=0.01)\n",
        "#look at the pagerank score for every vertex\n",
        "pr_cpdb.vertices.orderBy('pagerank', ascending=False).show()"
      ],
      "execution_count": null,
      "outputs": [
        {
          "output_type": "stream",
          "name": "stdout",
          "text": [
            "+-----+------------------+--------+--------------+--------------------+----------------------+------------------+\n",
            "|   id|      officer_name|    race|current_salary|                rank|total_misconduct_count|          pagerank|\n",
            "+-----+------------------+--------+--------------+--------------------+----------------------+------------------+\n",
            "| 8138|       Glenn Evans|   Black|        125190|Lieutenant of Police|                    73| 9.224336490995743|\n",
            "|17816|        Edward May|   White|         86130|      Police Officer|                    91| 8.781453450615974|\n",
            "|13303|     David Jarmusz|   White|        127596|           Commander|                    29| 7.753717937769441|\n",
            "| 8562|   Jerome Finnigan|   White|         73116|      Police Officer|                   116| 7.205109026215454|\n",
            "|32255|     Gerardo Perez|Hispanic|         93354|      Police Officer|                    38| 6.999806910246934|\n",
            "| 2375|Marvin Bonnstetter|   White|        101958|  Sergeant of Police|                    52| 6.925574000926473|\n",
            "|16567|    Baudilio Lopez|Hispanic|        111474|  Sergeant of Police|                    55| 6.727067377907265|\n",
            "| 9821|       Mark George|   White|        111474|  Sergeant of Police|                    41| 6.375518197546371|\n",
            "|27392|     Robert Stasch|   White|        125190|Lieutenant of Police|                    23|6.3229051514833765|\n",
            "|31859|         Eric Cato|   Black|        111474|  Sergeant of Police|                    51| 6.255302627009381|\n",
            "|20959|     James O Grady|   White|        154932|           Commander|                    40| 5.905031155488198|\n",
            "|16699|        John Lucid|   White|        111474|  Sergeant of Police|                    36| 5.880121795999848|\n",
            "|25306|     James Sanchez|Hispanic|        162684|Lieutenant of Police|                    69| 5.878604323220897|\n",
            "|31834|   Michael Bocardo|Hispanic|        111474|  Sergeant of Police|                    37|5.8610254549394565|\n",
            "|10528|      Bernard Graf|   White|         87354|Police Officer as...|                    35| 5.761828279300101|\n",
            "|27778|     Carl Suchocki|   White|         90024|      Police Officer|                    55|5.7371383579010855|\n",
            "|32164|   Tamara Matthews|   Black|         93354|  Sergeant of Police|                    62| 5.699532705181115|\n",
            "|29445|         Luis Vega|Hispanic|         93240|      Police Officer|                    36| 5.692547823980591|\n",
            "|27270|     Michael Stack|   White|        107988|  Sergeant of Police|                    40| 5.550108151684686|\n",
            "|32237|    Louis Ortoneda|Hispanic|         93354|      Police Officer|                    38| 5.522336960533268|\n",
            "+-----+------------------+--------+--------------+--------------------+----------------------+------------------+\n",
            "only showing top 20 rows\n",
            "\n"
          ]
        }
      ]
    }
  ]
}