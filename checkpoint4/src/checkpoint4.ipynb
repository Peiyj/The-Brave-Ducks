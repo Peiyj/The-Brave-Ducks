{
  "nbformat": 4,
  "nbformat_minor": 0,
  "metadata": {
    "colab": {
      "name": "checkpoint4.ipynb",
      "provenance": [],
      "collapsed_sections": []
    },
    "kernelspec": {
      "name": "python3",
      "display_name": "Python 3"
    },
    "language_info": {
      "name": "python"
    }
  },
  "cells": [
    {
      "cell_type": "markdown",
      "metadata": {
        "id": "sElgRPJCjICZ"
      },
      "source": [
        "**The Brave Ducks**\n",
        "\n",
        "**Checkpoint 4: Graph Analytics**\n",
        "\n",
        "**Overview:** With the following exploration of the Chicago Polic Database, we inspect co-offending officers and if they have any interesting relationships within each pair of officers. The exploration of the following questions is done via graph analytics, conducted using Apache Spark and GraphX tools, processed in the attached Google Colab notebook.\n",
        "\n",
        "**Questions we seek to answer with the graph analytics:**\n",
        "1.   Are there occurrences of co-offending officers on the same misconduct report and how often do the same co-offending officers repeat?\n",
        "2.   What is the salary, rank, and race relationship between the topmost pair of co-offending officers? This analysis can then be repeated for each pair, as needed. For this report, we will provide discussion for the topmost offending pair.\n",
        "    *   do the officers have comparable salaries within 10% of each other?\n",
        "    *   are the officers of similar ranking or is one a higher ranking officer, possibly socially pressuring a lower ranking officer into committing misconduct?\n",
        "    *   are the officers the same race?\n",
        "3.   How many unique co-offending relationships does each officer have? It is straightforward to compute total misconduct of an individual officer but will be more meaningful to understanding how many unique relationships an officer has in which he/she allegedly commits a misconduct.\n",
        "    *   we will use the Triangle Count algorithm to count the unique relationships connecting officer_id nodes\n",
        "\n",
        "4.   Who is the ring-leader (most important) co-offending officer?\n",
        "\n"
      ]
    },
    {
      "cell_type": "code",
      "metadata": {
        "id": "8q9GaenM0qTu",
        "colab": {
          "base_uri": "https://localhost:8080/"
        },
        "outputId": "9a12e9cb-1af5-44c4-8801-a42e2ce05e24"
      },
      "source": [
        "# install java\n",
        "!apt-get install openjdk-8-jdk-headless -qq > /dev/null\n",
        "\n",
        "# install spark (change the version number if needed)\n",
        "!wget -q https://archive.apache.org/dist/spark/spark-3.2.0/spark-3.2.0-bin-hadoop3.2.tgz\n",
        "\n",
        "# unzip the spark file to the current folder\n",
        "!tar xf spark-3.2.0-bin-hadoop3.2.tgz\n",
        "\n",
        "# set your spark folder to your system path environment. \n",
        "import os\n",
        "os.environ[\"JAVA_HOME\"] = \"/usr/lib/jvm/java-8-openjdk-amd64\"\n",
        "os.environ[\"SPARK_HOME\"] = \"/content/spark-3.2.0-bin-hadoop3.2\"\n",
        "\n",
        "# install findspark using pip\n",
        "!pip install -q findspark\n",
        "\n",
        "# install pyspark\n",
        "!pip3 install pyspark==3.2.0\n",
        "\n",
        "# install graphframes\n",
        "!pip3 install graphframes"
      ],
      "execution_count": null,
      "outputs": [
        {
          "output_type": "stream",
          "name": "stdout",
          "text": [
            "Collecting pyspark==3.2.0\n",
            "  Downloading pyspark-3.2.0.tar.gz (281.3 MB)\n",
            "\u001b[K     |████████████████████████████████| 281.3 MB 37 kB/s \n",
            "\u001b[?25hCollecting py4j==0.10.9.2\n",
            "  Downloading py4j-0.10.9.2-py2.py3-none-any.whl (198 kB)\n",
            "\u001b[K     |████████████████████████████████| 198 kB 51.8 MB/s \n",
            "\u001b[?25hBuilding wheels for collected packages: pyspark\n",
            "  Building wheel for pyspark (setup.py) ... \u001b[?25l\u001b[?25hdone\n",
            "  Created wheel for pyspark: filename=pyspark-3.2.0-py2.py3-none-any.whl size=281805912 sha256=e8e3f9a8e04851b9c6ffb6213f53bed93f8abd516c131328084ea3058e4a8dfc\n",
            "  Stored in directory: /root/.cache/pip/wheels/0b/de/d2/9be5d59d7331c6c2a7c1b6d1a4f463ce107332b1ecd4e80718\n",
            "Successfully built pyspark\n",
            "Installing collected packages: py4j, pyspark\n",
            "Successfully installed py4j-0.10.9.2 pyspark-3.2.0\n",
            "Collecting graphframes\n",
            "  Downloading graphframes-0.6-py2.py3-none-any.whl (18 kB)\n",
            "Requirement already satisfied: numpy in /usr/local/lib/python3.7/dist-packages (from graphframes) (1.19.5)\n",
            "Collecting nose\n",
            "  Downloading nose-1.3.7-py3-none-any.whl (154 kB)\n",
            "\u001b[K     |████████████████████████████████| 154 kB 5.1 MB/s \n",
            "\u001b[?25hInstalling collected packages: nose, graphframes\n",
            "Successfully installed graphframes-0.6 nose-1.3.7\n"
          ]
        }
      ]
    },
    {
      "cell_type": "markdown",
      "metadata": {
        "id": "Li40SzYtq0H6"
      },
      "source": [
        "Download the graphframes jar file from: [Graphframe jar file:](https://repos.spark-packages.org/graphframes/graphframes/0.8.2-spark3.2-s_2.12/graphframes-0.8.2-spark3.2-s_2.12.jar)\n",
        "\n",
        "Upload it in the Google Colab Files folder. Can be found in the left pane of this window."
      ]
    },
    {
      "cell_type": "code",
      "metadata": {
        "colab": {
          "base_uri": "https://localhost:8080/"
        },
        "id": "6MVIEKxAHykk",
        "outputId": "002fd747-c3b1-4cc6-a551-c3628e8c7cd1"
      },
      "source": [
        "!cp -v /content/graphframes-0.8.2-spark3.2-s_2.12.jar $SPARK_HOME/jars/"
      ],
      "execution_count": null,
      "outputs": [
        {
          "output_type": "stream",
          "name": "stdout",
          "text": [
            "'/content/graphframes-0.8.2-spark3.2-s_2.12.jar' -> '/content/spark-3.2.0-bin-hadoop3.2/jars/graphframes-0.8.2-spark3.2-s_2.12.jar'\n"
          ]
        }
      ]
    },
    {
      "cell_type": "code",
      "metadata": {
        "id": "vMzCLSn81Grr"
      },
      "source": [
        "#import the packages\n",
        "from pyspark import *\n",
        "from pyspark.sql import *\n",
        "from graphframes import *\n",
        "import findspark\n",
        "import pandas as pd\n",
        "\n",
        "findspark.init()\n",
        "\n",
        "# Start a Spark session\n",
        "spark = SparkSession.builder.master(\"local[*]\").getOrCreate()"
      ],
      "execution_count": null,
      "outputs": []
    },
    {
      "cell_type": "code",
      "metadata": {
        "id": "1ei_oY0-OcaJ",
        "colab": {
          "base_uri": "https://localhost:8080/"
        },
        "outputId": "413cf8ab-1c86-406d-d4a6-f44afc584056"
      },
      "source": [
        "import psycopg2"
      ],
      "execution_count": null,
      "outputs": [
        {
          "output_type": "stream",
          "name": "stderr",
          "text": [
            "/usr/local/lib/python3.7/dist-packages/psycopg2/__init__.py:144: UserWarning: The psycopg2 wheel package will be renamed from release 2.8; in order to keep installing from binary please use \"pip install psycopg2-binary\" instead. For details see: <http://initd.org/psycopg/docs/install.html#binary-install-from-pypi>.\n",
            "  \"\"\")\n"
          ]
        }
      ]
    },
    {
      "cell_type": "code",
      "metadata": {
        "id": "L4YGowB2Occ7"
      },
      "source": [
        "# access the postgresql server\n",
        "conn = psycopg2.connect(\n",
        "    host=\"codd04.research.northwestern.edu\",\n",
        "    port = \"5433\",\n",
        "    database=\"postgres\",\n",
        "    user=\"cpdbstudent\",\n",
        "    password=\"DataSci4AI\")"
      ],
      "execution_count": null,
      "outputs": []
    },
    {
      "cell_type": "code",
      "metadata": {
        "id": "fUSZMYh5Ohg7"
      },
      "source": [
        "cursor = conn.cursor()"
      ],
      "execution_count": null,
      "outputs": []
    },
    {
      "cell_type": "markdown",
      "metadata": {
        "id": "PK860SmxxHRb"
      },
      "source": [
        "# **CPDB**\n",
        "\n",
        "Analyze the police officers connection with police misconducts, i.e. (illegal search and use of force)"
      ]
    },
    {
      "cell_type": "code",
      "metadata": {
        "id": "zkOfRw_FOhk0"
      },
      "source": [
        "edges_query = \"SELECT da1.officer_id src, da2.officer_id dst, COUNT(DISTINCT da1.allegation_id) relationship \\\n",
        "FROM data_officerallegation da1, \\\n",
        "     data_officerallegation da2, \\\n",
        "     data_allegationcategory dcat \\\n",
        "WHERE da1.allegation_id = da2.allegation_id \\\n",
        "  AND da1.allegation_category_id = dcat.id \\\n",
        "  AND da1.officer_id < da2.officer_id \\\n",
        "  AND (dcat.category like 'Illegal Search' or dcat.category like 'Use Of Force') \\\n",
        "GROUP BY da1.officer_id, da2.officer_id \\\n",
        "ORDER BY count(*) DESC;\""
      ],
      "execution_count": null,
      "outputs": []
    },
    {
      "cell_type": "markdown",
      "metadata": {
        "id": "xdjZye58yCEP"
      },
      "source": [
        "**Following query creates nodes and edges to answer the questions.**\n",
        "\n",
        "\n",
        "\n",
        "*   **nodes**: id, officer name and misconduct count\n",
        "*   **edges**: src(officer1 id), dist(officer2 id) and relationship(misconduct count)"
      ]
    },
    {
      "cell_type": "code",
      "metadata": {
        "id": "OcMIWVuTOl18"
      },
      "source": [
        "nodes_query = \"SELECT da.officer_id id, doff.first_name || ' ' || doff.last_name officer_name, doff.race, doff.current_salary, doff.rank,COUNT(DISTINCT da.allegation_id) total_misconduct_count \\\n",
        "FROM data_officerallegation da, \\\n",
        "data_officer doff, \\\n",
        "data_allegationcategory dcat \\\n",
        "WHERE da.allegation_category_id = dcat.id \\\n",
        "AND doff.id = da.officer_id \\\n",
        "AND (dcat.category like 'Illegal Search' or dcat.category like 'Use Of Force') \\\n",
        "AND current_salary is not null \\\n",
        "GROUP BY da.officer_id, officer_name, doff.race, doff.current_salary, doff.rank; \" "
      ],
      "execution_count": 42,
      "outputs": []
    },
    {
      "cell_type": "code",
      "metadata": {
        "id": "HAAAAxavOl7g",
        "colab": {
          "base_uri": "https://localhost:8080/"
        },
        "outputId": "af0bf1e3-237f-470b-c8ba-b159420a5c4a"
      },
      "source": [
        "cursor.execute(edges_query)\n",
        "edges = cursor.fetchall()\n",
        "print(\"shape is: \" + str(len(edges)))\n",
        "\n",
        "df_edges = pd.DataFrame(edges)\n",
        "colnames = [desc[0] for desc in cursor.description]\n",
        "df_edges.columns = colnames\n",
        "\n",
        "print(df_edges.shape)"
      ],
      "execution_count": 43,
      "outputs": [
        {
          "output_type": "stream",
          "name": "stdout",
          "text": [
            "shape is: 92794\n",
            "(92794, 3)\n"
          ]
        }
      ]
    },
    {
      "cell_type": "code",
      "metadata": {
        "id": "itgubJqDOq-b",
        "colab": {
          "base_uri": "https://localhost:8080/"
        },
        "outputId": "96a2f56c-c6e1-4b8d-ef6c-a11098ea33c8"
      },
      "source": [
        "cursor.execute(nodes_query)\n",
        "nodes = cursor.fetchall()\n",
        "print(\"shape is: \" + str(len(nodes))) \n",
        "\n",
        "df_nodes = pd.DataFrame(nodes)\n",
        "colnames = [desc[0] for desc in cursor.description]\n",
        "df_nodes.columns = colnames\n",
        "\n",
        "print(df_nodes.shape)"
      ],
      "execution_count": 44,
      "outputs": [
        {
          "output_type": "stream",
          "name": "stdout",
          "text": [
            "shape is: 13951\n",
            "(13951, 6)\n"
          ]
        }
      ]
    },
    {
      "cell_type": "code",
      "metadata": {
        "id": "Z6Ndlh2fOuPr"
      },
      "source": [
        "edges_ = spark.createDataFrame(df_edges)"
      ],
      "execution_count": 45,
      "outputs": []
    },
    {
      "cell_type": "code",
      "metadata": {
        "id": "NQpUzzhiOuM6"
      },
      "source": [
        "nodes = spark.createDataFrame(df_nodes)"
      ],
      "execution_count": 46,
      "outputs": []
    },
    {
      "cell_type": "code",
      "metadata": {
        "id": "5E6wePicOzAe"
      },
      "source": [
        "cpdb = GraphFrame(nodes, edges_)"
      ],
      "execution_count": 47,
      "outputs": []
    },
    {
      "cell_type": "markdown",
      "metadata": {
        "id": "AzpP5sxopQ71"
      },
      "source": [
        "**The Results**"
      ]
    },
    {
      "cell_type": "code",
      "metadata": {
        "id": "nGmLt3whyPAu",
        "colab": {
          "base_uri": "https://localhost:8080/"
        },
        "outputId": "0ada3782-ba6d-4a5e-f63a-6cc905a2a5d6"
      },
      "source": [
        "cpdb.vertices.show()"
      ],
      "execution_count": 48,
      "outputs": [
        {
          "output_type": "stream",
          "name": "stdout",
          "text": [
            "+---+----------------+-------------+--------------+--------------------+----------------------+\n",
            "| id|    officer_name|         race|current_salary|                rank|total_misconduct_count|\n",
            "+---+----------------+-------------+--------------+--------------------+----------------------+\n",
            "|  1|   Jeffery Aaron|        White|        101442|  Sergeant of Police|                     2|\n",
            "|  2|    Karina Aaron|     Hispanic|         94122|Police Officer as...|                     4|\n",
            "|  4|   Carmel Abbate|        White|         74946|Police Officer as...|                     2|\n",
            "|  6|  Anthony Abbate|        White|         70656|      Police Officer|                     2|\n",
            "|  7|    Terry Abbate|        White|         93354|      Police Officer|                     3|\n",
            "|  8|      Leon Abbey|        Black|         73116|      Police Officer|                     1|\n",
            "| 11|    Laura Abbott|        White|         73476|Police Officer as...|                     2|\n",
            "| 13|     Dale Abbott|        White|         85278|      Police Officer|                     2|\n",
            "| 14|Elizabeth Abbott|        White|         82878|      Police Officer|                     1|\n",
            "| 16|Aziz Abdelmajeid|Asian/Pacific|         84054|  Sergeant of Police|                     9|\n",
            "| 17| Moulay Abdullah|        Black|         83706|      Police Officer|                     1|\n",
            "| 18|   Jason Abejero|Asian/Pacific|         90024|      Police Officer|                     1|\n",
            "| 20|   Kenneth Abels|        White|        106068|  Sergeant of Police|                     2|\n",
            "| 33|   Ricardo Abreu|     Hispanic|         74946|Police Officer as...|                    10|\n",
            "| 34|     Floyd Abron|        Black|         90024|      Police Officer|                     5|\n",
            "| 38|Abdalla Abuzanat|Asian/Pacific|         97440|Police Officer as...|                     5|\n",
            "| 39|Rosemary Accardo|        White|         92316|      Police Officer|                    10|\n",
            "| 41|Jennifer Accardo|        White|         87006|      Police Officer|                     2|\n",
            "| 42|  Thomas Accardo|        White|         90024|      Police Officer|                     6|\n",
            "| 44|   Marco Acevedo|     Hispanic|        100980|Police Officer as...|                    10|\n",
            "+---+----------------+-------------+--------------+--------------------+----------------------+\n",
            "only showing top 20 rows\n",
            "\n"
          ]
        }
      ]
    },
    {
      "cell_type": "markdown",
      "metadata": {
        "id": "3wJXiKlYpgfn"
      },
      "source": [
        "**Question 1: Are there occurrences of co-offending officers on the same misconduct report and how often do the same co-offending officers repeat?**\n",
        "\n",
        "The table below represents a graph with source node being officer_id1 and destination node being officer_id2, while their relationship is the total count of co-offending misconduct."
      ]
    },
    {
      "cell_type": "code",
      "metadata": {
        "id": "MQ3vTw0yySrG",
        "colab": {
          "base_uri": "https://localhost:8080/"
        },
        "outputId": "afeea643-33ac-4e71-9079-9fc9fb207d39"
      },
      "source": [
        "cpdb.edges.show()"
      ],
      "execution_count": 49,
      "outputs": [
        {
          "output_type": "stream",
          "name": "stdout",
          "text": [
            "+-----+-----+------------+\n",
            "|  src|  dst|relationship|\n",
            "+-----+-----+------------+\n",
            "|12478|32166|          36|\n",
            "| 8562|27778|          34|\n",
            "| 2725|21703|          29|\n",
            "| 1553|10724|          28|\n",
            "| 3605|14442|          28|\n",
            "| 8562|18206|          28|\n",
            "|12074|12825|          28|\n",
            "|32265|32347|          27|\n",
            "| 8562|23841|          26|\n",
            "|31882|32401|          25|\n",
            "|13361|20150|          25|\n",
            "| 1553|16699|          24|\n",
            "|23841|27778|          24|\n",
            "|32016|32213|          24|\n",
            "|14731|27602|          23|\n",
            "|14045|15502|          23|\n",
            "|12479|20713|          22|\n",
            "|17285|17397|          21|\n",
            "|18206|27778|          21|\n",
            "| 8658|13788|          21|\n",
            "+-----+-----+------------+\n",
            "only showing top 20 rows\n",
            "\n"
          ]
        }
      ]
    },
    {
      "cell_type": "markdown",
      "metadata": {
        "id": "AwoL0Q1Ytvqx"
      },
      "source": [
        "**Question 2: What is the salary, rank, and race relationship between the topmost pair of co-offending officers?** \n",
        "\n",
        "*  do the officers have comparable salaries within 10% of each other?\n",
        "*    are the officers of similar ranking or is one a higher ranking officer, possibly socially pressuring a lower ranking officer into committing misconduct?\n",
        "*    are the officers the same race?\n",
        "\n",
        "\n",
        "\n",
        "To gain more insight into the top most co-offending pair of officers, we inspect the graph vertices to see the exact names, salary, rank, and race of the officers with the most total misconduct counts. As we can see below, the officers Ronald Holt and Emmet Mc Clendon have the most co-offending misconduct complaints. There is a more than 10% discrepency between their salaries and their officer rankings are significantly different, implying some hierarchical relationship between officer Holt and officer McClendon. Further, we note that both officers in this pair are of race black."
      ]
    },
    {
      "cell_type": "code",
      "metadata": {
        "id": "hzc372hgOzDF",
        "colab": {
          "base_uri": "https://localhost:8080/"
        },
        "outputId": "44c0454f-0c1f-4a2b-8326-161812365dde"
      },
      "source": [
        "cpdb.vertices.filter('id=12478').show()\n",
        "cpdb.vertices.filter('id=32166').show()"
      ],
      "execution_count": 56,
      "outputs": [
        {
          "output_type": "stream",
          "name": "stdout",
          "text": [
            "+-----+------------+-----+--------------+----------------+----------------------+\n",
            "|   id|officer_name| race|current_salary|            rank|total_misconduct_count|\n",
            "+-----+------------+-----+--------------+----------------+----------------------+\n",
            "|12478| Ronald Holt|Black|        145476|Director of CAPS|                    57|\n",
            "+-----+------------+-----+--------------+----------------+----------------------+\n",
            "\n",
            "+-----+-----------------+-----+--------------+------------------+----------------------+\n",
            "|   id|     officer_name| race|current_salary|              rank|total_misconduct_count|\n",
            "+-----+-----------------+-----+--------------+------------------+----------------------+\n",
            "|32166|Emmett Mc Clendon|Black|        107988|Sergeant of Police|                    64|\n",
            "+-----+-----------------+-----+--------------+------------------+----------------------+\n",
            "\n"
          ]
        }
      ]
    },
    {
      "cell_type": "code",
      "metadata": {
        "id": "dk82aaVGtFYe"
      },
      "source": [
        ""
      ],
      "execution_count": 55,
      "outputs": []
    },
    {
      "cell_type": "markdown",
      "metadata": {
        "id": "nDdna7qIxywq"
      },
      "source": [
        "**Question 3: How many unique co-offending relationships does each officer have?**\n",
        "\n",
        "Background on the Triangle Count algorithm:\n",
        "\n",
        "The Triangle Count algorithm counts the number of triangles for each node in the graph. A triangle is a set of three nodes where each node has a relationship to the other two. In graph theory terminology, this is sometimes referred to as a 3-clique. The Triangle Count algorithm in the GDS library only finds triangles in undirected graphs.\n",
        "\n",
        "Triangle counting has gained popularity in social network analysis, where it is used to detect communities and measure the cohesiveness of those communities. \n",
        "\n",
        "(source: https://neo4j.com/docs/graph-data-science/current/algorithms/triangle-count/#:~:text=The%20Triangle%20Count%20algorithm%20counts,to%20as%20a%203%2Dclique): \n",
        "\n",
        "\n",
        "\n",
        "We see from our triangle count computation on the graph that officer Vincent Stinar has the highest number of unique co-offending relationships with other officers. And although we understood the Triangle Count algorithm to compute the unique relationship each officer has, as described above, the computation result we get from the code does not make immediate intuitive sense. We do a sanity-check on the computation by printing out the noted officer id '32356' as being the officer with the most unique co-offending relationships, being officer Vincent Stinar. We note that the TC algorithm computes he has 1514 unique co-offending relationships but the following computation for officer Stinar's total misconduct count is much lower, at total count equal to 12. This does not make intuitive sense for officer Vincent Stinar to have 1514 unique co-offending relationships but only 12 counts of misconduct. Upon further investigation and debugging of the code, we are unable to identify any specific bug in the code to rectify this error."
      ]
    },
    {
      "cell_type": "code",
      "metadata": {
        "id": "bjfzCySMdHr7",
        "colab": {
          "base_uri": "https://localhost:8080/"
        },
        "outputId": "f5bbcf60-0ea2-4c25-e413-f8ffc4a907b7"
      },
      "source": [
        "tc_cpdb = cpdb.triangleCount()\n",
        "\n",
        "tc_cpdb.select(\"id\", \"count\").sort(['count'], ascending=[0]).show()\n",
        "cpdb.vertices.filter('id=32356').show()"
      ],
      "execution_count": 66,
      "outputs": [
        {
          "output_type": "stream",
          "name": "stdout",
          "text": [
            "+-----+-----+\n",
            "|   id|count|\n",
            "+-----+-----+\n",
            "|32356| 1514|\n",
            "|31536| 1485|\n",
            "|32390| 1437|\n",
            "|25230| 1417|\n",
            "|22554| 1390|\n",
            "| 2375| 1369|\n",
            "| 6704| 1366|\n",
            "|21364| 1347|\n",
            "|30337| 1316|\n",
            "|25983| 1312|\n",
            "| 2201| 1287|\n",
            "|13272| 1277|\n",
            "|13093| 1263|\n",
            "|10724| 1237|\n",
            "|28384| 1230|\n",
            "| 9648| 1204|\n",
            "| 7032| 1196|\n",
            "|12947| 1186|\n",
            "| 6852| 1182|\n",
            "| 2356| 1179|\n",
            "+-----+-----+\n",
            "only showing top 20 rows\n",
            "\n",
            "+-----+--------------+-----+--------------+--------------+----------------------+\n",
            "|   id|  officer_name| race|current_salary|          rank|total_misconduct_count|\n",
            "+-----+--------------+-----+--------------+--------------+----------------------+\n",
            "|32356|Vincent Stinar|White|         90024|Police Officer|                    12|\n",
            "+-----+--------------+-----+--------------+--------------+----------------------+\n",
            "\n"
          ]
        }
      ]
    },
    {
      "cell_type": "markdown",
      "metadata": {
        "id": "yX_5WfxL4pgc"
      },
      "source": [
        "**Question 4: Who is the ring-leader (most important) co-offending officer?**\n",
        "\n",
        "We use the PageRank algorithm on our graph to highlight which officers perform as ring leaders in the perspective of the data.\n",
        "\n",
        "As visualized below, the pagerank algorithm shows that officer Perry Williams has the most influence on other officers in co-offending misconduct cases."
      ]
    },
    {
      "cell_type": "code",
      "metadata": {
        "id": "6R15Gbqv2kQT",
        "colab": {
          "base_uri": "https://localhost:8080/"
        },
        "outputId": "1b1cad91-ef5b-47aa-c56d-ef11e6e12623"
      },
      "source": [
        "pr_cpdb = cpdb.pageRank(resetProbability=0.15, tol=0.01)\n",
        "#look at the pagerank score for every vertex\n",
        "pr_cpdb.vertices.orderBy('pagerank', ascending=False).show()"
      ],
      "execution_count": 53,
      "outputs": [
        {
          "output_type": "stream",
          "name": "stdout",
          "text": [
            "+-----+-----------------+-------------+--------------+--------------------+----------------------+------------------+\n",
            "|   id|     officer_name|         race|current_salary|                rank|total_misconduct_count|          pagerank|\n",
            "+-----+-----------------+-------------+--------------+--------------------+----------------------+------------------+\n",
            "|32425|   Perry Williams|        Black|         90024|      Police Officer|                    13|102.54783962354941|\n",
            "|32442|     John Zinchuk|        White|         87006|      Police Officer|                    11| 92.54312069210168|\n",
            "|32364|   Verlisher Syas|        Black|         93354|      Police Officer|                    10|60.678406685015375|\n",
            "|32351| Boonserm Srisuth|Asian/Pacific|         90024|      Police Officer|                    12| 50.30390367588386|\n",
            "|32419|        Eric Wier|        White|         93354|      Police Officer|                    11| 47.29685901923323|\n",
            "|32401|   Joshua Wallace|        Black|        104628|           Commander|                    34| 47.23298613375802|\n",
            "|32413|Carl Weatherspoon|        Black|         96060|      Police Officer|                    38|42.165896418041946|\n",
            "|32237|   Louis Ortoneda|     Hispanic|         93354|      Police Officer|                    38| 41.10960566823943|\n",
            "|32384|    Edwin Utreras|     Hispanic|         90024|      Police Officer|                    27| 40.40657504366004|\n",
            "|32436|  Edmund Zablocki|        White|         90024|      Police Officer|                    18|38.880114571678035|\n",
            "|32342|   Scott Slechter|        White|        107988|  Sergeant of Police|                    14|35.255074215291216|\n",
            "|32433|    Kenneth Yakes|        White|         96060|Police Officer As...|                    14|34.249022134390565|\n",
            "|32388|       Marc Vanek|        White|        104628|  Sergeant of Police|                     6|33.069026584133915|\n",
            "|32328|  Timothy Schumpp|        White|         93354|      Police Officer|                    29| 32.38892545636249|\n",
            "|32324| Kathleen Schmidt|        White|         96060|      Police Officer|                     4|  31.2177150289489|\n",
            "|32416|    Russell White|        White|         93354|      Police Officer|                    20|30.334238769325037|\n",
            "|32435|   Mohammad Yusuf|        White|         87006|      Police Officer|                    11|29.893520696186314|\n",
            "|32440|      Mark Zawila|        White|        100980|Police Officer as...|                    19|28.072061107953473|\n",
            "|32335|Jonathan Shortall|        White|         90024|      Police Officer|                    16|26.979809229138507|\n",
            "|32345|    Darrell Smith|        Black|         90024|      Police Officer|                    14|26.766041197466613|\n",
            "+-----+-----------------+-------------+--------------+--------------------+----------------------+------------------+\n",
            "only showing top 20 rows\n",
            "\n"
          ]
        }
      ]
    },
    {
      "cell_type": "code",
      "metadata": {
        "id": "7AZzt9ViqX89"
      },
      "source": [
        ""
      ],
      "execution_count": null,
      "outputs": []
    }
  ]
}